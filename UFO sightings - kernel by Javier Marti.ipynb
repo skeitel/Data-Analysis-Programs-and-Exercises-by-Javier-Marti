{
 "cells": [
  {
   "cell_type": "code",
   "execution_count": null,
   "metadata": {
    "collapsed": true,
    "scrolled": true
   },
   "outputs": [],
   "source": [
    "import pandas as pd\n",
    "import numpy as np\n",
    "import matplotlib.pyplot as plt\n",
    "from matplotlib import style\n",
    "style.use('dark_background')\n",
    "%matplotlib inline\n",
    "from scipy import stats\n",
    "df[(np.abs(stats.zscore(df)) < 3).all(axis=1)]\n",
    "\n",
    "df.head()"
   ]
  },
  {
   "cell_type": "code",
   "execution_count": null,
   "metadata": {
    "collapsed": true,
    "scrolled": true
   },
   "outputs": [],
   "source": [
    "df.info()\n",
    "#After taking a general look at the ddbb with this command, we notice missing values in columns for state, UFO shape, and country\n"
   ]
  },
  {
   "cell_type": "code",
   "execution_count": null,
   "metadata": {
    "collapsed": true
   },
   "outputs": [],
   "source": [
    "#we check the top 10 cities for sightings\n",
    "top = df['city'].value_counts().head(10)\n",
    "top"
   ]
  },
  {
   "cell_type": "code",
   "execution_count": null,
   "metadata": {
    "collapsed": true
   },
   "outputs": [],
   "source": [
    "#and the 5 cities where least sightings have occurred...\n",
    "last_5 = df['city'].value_counts().tail(5)\n",
    "last_5"
   ]
  },
  {
   "cell_type": "code",
   "execution_count": null,
   "metadata": {
    "collapsed": true
   },
   "outputs": [],
   "source": [
    "#we begin now to clean and normalize the ddbb, dropping rows that don't contain data in one of their cells\n",
    "#Since the data appears to be so dirty, in this case we directly drop incomplete rows without clearning selectively each row \n",
    "df.shape\n",
    "df.dropna(inplace = True)\n",
    "df.shape\n",
    "#we are now left with 66516 records"
   ]
  },
  {
   "cell_type": "code",
   "execution_count": null,
   "metadata": {
    "collapsed": true
   },
   "outputs": [],
   "source": [
    "#Next, we proceed to change the type of some of the columns, so we can carry out min and max operations on them later\n",
    "df[['length_of_encounter_seconds','latitude']] = df[['length_of_encounter_seconds','latitude']].apply(pd.to_numeric, errors='coerce')\n",
    "df.info()"
   ]
  },
  {
   "cell_type": "code",
   "execution_count": null,
   "metadata": {
    "collapsed": true
   },
   "outputs": [],
   "source": [
    "#in general, we can see that the average duration of a sighting is around 150 seconds. \n",
    "#We also learn that the standard deviation is quite broad...being the minimum sighting time 1 second amd the max time 7254 seconds.\n",
    "information = df.length_of_encounter_seconds.value_counts().describe()\n",
    "information"
   ]
  },
  {
   "cell_type": "code",
   "execution_count": null,
   "metadata": {
    "collapsed": true
   },
   "outputs": [],
   "source": [
    "#by checking the duration of the top 10 longest encounters in time, the longest encounter catches our attention...\n",
    "df.length_of_encounter_seconds.value_counts().head(10)"
   ]
  },
  {
   "cell_type": "code",
   "execution_count": null,
   "metadata": {
    "collapsed": true
   },
   "outputs": [],
   "source": [
    "#We decide to investigate further by going directly to the index that contains that information, \n",
    "#In this case, index number 300 seems to be incomplete. \n",
    "#We only know that on that day a large formation was seen on the area...for 120 mminutes!\n",
    "longest = df[df['length_of_encounter_seconds']>600]\n",
    "longest"
   ]
  },
  {
   "cell_type": "code",
   "execution_count": null,
   "metadata": {
    "collapsed": true
   },
   "outputs": [],
   "source": [
    "#We next find out the date of the longest recorded sighting\n",
    "df['Date_time'][df['length_of_encounter_seconds']].max()"
   ]
  },
  {
   "cell_type": "code",
   "execution_count": null,
   "metadata": {
    "collapsed": true
   },
   "outputs": [],
   "source": [
    "#Plotting the data we notice how unusual long sightings are\n",
    "deviation = df.length_of_encounter_seconds.value_counts().std()\n",
    "deviation"
   ]
  },
  {
   "cell_type": "code",
   "execution_count": null,
   "metadata": {
    "collapsed": true
   },
   "outputs": [],
   "source": [
    "df.length_of_encounter_seconds.plot()\n"
   ]
  },
  {
   "cell_type": "code",
   "execution_count": null,
   "metadata": {
    "collapsed": true
   },
   "outputs": [],
   "source": [
    "#We also learn the 10 most commonly declared shapes for UFOs\n",
    "#Interestingly, \"oval\" shaped objects are in 9th place...behind the most common ones, in the form of \"light\" \n",
    "shape = df.UFO_shape.value_counts().head(10)\n",
    "shape"
   ]
  },
  {
   "cell_type": "code",
   "execution_count": null,
   "metadata": {
    "collapsed": true
   },
   "outputs": [],
   "source": [
    "#Just out of curiosity, we check how many sightings have happened in one particular city\n",
    "random_city = df[df['city']== 'san marcos'].count()\n",
    "random_city"
   ]
  },
  {
   "cell_type": "code",
   "execution_count": null,
   "metadata": {
    "collapsed": true
   },
   "outputs": [],
   "source": [
    "#If we want to see each row that contains the information for that city, we just remove the count function at the end\n",
    "#Notice that there may be two cities of San Marcos in different states, tx and ca\n",
    "random_city = df[df['city']== 'san marcos']\n",
    "random_city"
   ]
  },
  {
   "cell_type": "code",
   "execution_count": null,
   "metadata": {
    "collapsed": true
   },
   "outputs": [],
   "source": [
    "#What's the longest encounter with a UFO? Longer than anyone would expect...\n",
    "df.length_of_encounter_seconds.max()"
   ]
  },
  {
   "cell_type": "code",
   "execution_count": null,
   "metadata": {
    "collapsed": true,
    "scrolled": true
   },
   "outputs": [],
   "source": [
    "#Digging deeper into it and verifying the data: we have discovered a strange outlier in the dataset\n",
    "df[df['length_of_encounter_seconds'] == 97836000.0]"
   ]
  },
  {
   "cell_type": "code",
   "execution_count": null,
   "metadata": {
    "collapsed": true
   },
   "outputs": [],
   "source": [
    "# #PENDING TO TRY THIS TO CHANGE TYPE AND GET RID OF DOTS\n",
    "# >>> import pandas as pd\n",
    "# >>> df = pd.DataFrame({'col1':[1, 2, 3], 'col2':[2.0, 1.0, 4.1]})\n",
    "# >>> pd.set_option('display.float_format', lambda x: ('%f' % x).rstrip('.0'))\n",
    "# >>> df\n",
    "#    col1  col2\n",
    "# 0     1     2\n",
    "# 1     2     1\n",
    "# 2     3   4.1\n",
    "\n",
    "# /////////////////\n",
    "\n",
    "# df = pd.DataFrame(np.random.randn(100, 3))\n",
    "\n",
    "# from scipy import stats\n",
    "# df[(np.abs(stats.zscore(df)) < 3).all(axis=1)]\n",
    "\n",
    "# /////////////////\n",
    "\n",
    "# For each of your dataframe column, you could get quantile with:\n",
    "\n",
    "# q = df[\"col\"].quantile(0.99)\n",
    "\n",
    "# and then filter with:\n",
    "\n",
    "# df[df[\"col\"] < q]"
   ]
  }
 ],
 "metadata": {
  "kernelspec": {
   "display_name": "Python 2",
   "language": "python",
   "name": "python2"
  }
 },
 "nbformat": 4,
 "nbformat_minor": 2
}
